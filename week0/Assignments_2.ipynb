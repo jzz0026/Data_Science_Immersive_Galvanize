{
 "cells": [
  {
   "cell_type": "code",
   "execution_count": 1,
   "metadata": {},
   "outputs": [
    {
     "name": "stdout",
     "output_type": "stream",
     "text": [
      "True\n"
     ]
    }
   ],
   "source": [
    "import string\n",
    "class PasswordValidator:\n",
    "    ## when putting nothing for contains_capital or contains_number, it switch off.\n",
    "    ## so they have to be False\n",
    "    def __init__(self, contains_capital=False,contains_number=False,symbols=[]):\n",
    "        self.symbols = symbols\n",
    "        self.contains_capital = contains_capital\n",
    "        self.contains_number = contains_number\n",
    "        \n",
    "    def validate(self, strings):\n",
    "\n",
    "        symbo_check =  len(set(self.symbols) - set(list(strings))) != len(self.symbols)\n",
    "        \n",
    "        if self.contains_capital == True:\n",
    "            capit_check =  len(set(list(string.ascii_uppercase)) -  set(list(strings))) != len(list(string.ascii_uppercase))\n",
    "        else:\n",
    "            capit_check = True \n",
    "            ## when self.contains_capital == False, assuming it was true so that \"&\" in return works\n",
    "        \n",
    "        if self.contains_number == True:\n",
    "            num = [\"0\",\"1\",\"2\",\"3\",\"4\",\"5\",\"6\",\"7\",\"8\",\"9\"]\n",
    "            num_check = len(set(num) - set(list(strings))) != len(num)\n",
    "        else:\n",
    "            num_check = True\n",
    "        \n",
    "        return (symbo_check&capit_check&num_check)\n",
    "\n",
    "validator = PasswordValidator(symbols=['!', '?', '#'])\n",
    "print(validator.validate('moshi?'))\n"
   ]
  },
  {
   "cell_type": "code",
   "execution_count": 2,
   "metadata": {},
   "outputs": [
    {
     "name": "stdout",
     "output_type": "stream",
     "text": [
      "[1, 2, 5, 6]\n",
      "3.5\n"
     ]
    }
   ],
   "source": [
    "import numpy as np\n",
    "class VectorSegmenter:\n",
    "    def __init__(self, a_list):\n",
    "        self.a_list = a_list\n",
    "    def segment(self,bool_list):\n",
    "        self.new_list = [self.a_list[i] for i in range(len(self.a_list)) if bool_list[i] == True]\n",
    "        return self.new_list\n",
    "    def sum(self,bool_list):\n",
    "        return sum(self.new_list,bool_list)\n",
    "    def average(self,bool_list):\n",
    "        return np.mean(self.new_list)\n",
    "\n",
    "v = VectorSegmenter([1, 2, 3, 4, 5, 6])\n",
    "print(v.segment([True, True, False, False, True, True]))\n",
    "print(v.average([True, True, False, False, True, True]))\n"
   ]
  },
  {
   "cell_type": "code",
   "execution_count": 3,
   "metadata": {},
   "outputs": [
    {
     "name": "stdout",
     "output_type": "stream",
     "text": [
      "..........\n",
      "..####....\n",
      "..#..#....\n",
      "..#..#....\n",
      "..##..###.\n",
      "....#...#.\n",
      "..##....#.\n",
      "..#....##.\n",
      "..#####...\n",
      "..........\n"
     ]
    }
   ],
   "source": [
    "import numpy as np\n",
    "class DungeonRoom:\n",
    "    def __init__(self,i,j):\n",
    "        self.i = i\n",
    "        self.j = j\n",
    "        self.b_room =[]\n",
    "                \n",
    "        ## create a i x j array\n",
    "        self.room = np.full((self.i,self.j),\".\")\n",
    "\n",
    "        \n",
    "        ## creat a copy, so one for printing and the other for get overlap/union of boolean\n",
    "        self.room_ori = np.copy(self.room) \n",
    "    def add_rectangle(self,a,b,c,d):      \n",
    "        ## add wall\n",
    "        self.room[a:c,b] = \"#\"\n",
    "        self.room[a:c,d-1] = \"#\"\n",
    "        self.room[a,b:d] = \"#\"\n",
    "        self.room[c-1,b:d] = \"#\"\n",
    "                \n",
    "        ## select overlap\n",
    "        room_bool = np.full((self.i, self.j), False) # creat a i x j array with full of False\n",
    "        \n",
    "        for i in range(a,c):\n",
    "            room_bool[i,b:d] = True # set True for inside rectangular \n",
    "        \n",
    "        self.b_room.append(room_bool) # self.b_room contain 1st and 2nd boolean array\n",
    "        \n",
    "        ## when there are more than one rectangular\n",
    "        if len(self.b_room) > 1:\n",
    "            b_room_int = np.all(self.b_room, axis=0) # overlap area\n",
    "            self.room[b_room_int] = \".\" # overlap area have to be \".\"\n",
    "            \n",
    "            self.b_room = [np.any(self.b_room, axis=0)] # replace the rectangular area with union \n",
    "                                                        # so always two boolean array in self.b_room\n",
    "    def print_room(self):\n",
    "        print(\"\\n\".join([\"\".join(a) for a in self.room]))\n",
    "\n",
    "room = DungeonRoom(10, 10)\n",
    "room.add_rectangle(1, 2, 5, 6)\n",
    "room.add_rectangle(4, 4, 8, 9)\n",
    "room.add_rectangle(6, 2, 9, 7)\n",
    "\n",
    "room.print_room()\n"
   ]
  },
  {
   "cell_type": "code",
   "execution_count": 4,
   "metadata": {},
   "outputs": [
    {
     "name": "stdout",
     "output_type": "stream",
     "text": [
      "x^2 - 2x - 3\n"
     ]
    }
   ],
   "source": [
    "class Quadratic_Polynomial:\n",
    "    def __init__(self,a,b,c):\n",
    "        self.a = a\n",
    "        self.b = b\n",
    "        self.c = c\n",
    "        \n",
    "    def evaluate(self,x):\n",
    "        return self.a * (x**2) + self.b*x + self.c\n",
    "    \n",
    "    def __add__(self,other):\n",
    "        a = self.a + other.a\n",
    "        b = self.b + other.b\n",
    "        c = self.c + other.c\n",
    "        return Quadratic_Polynomial(a,b,c)\n",
    "    \n",
    "    def __sub__(self,other):\n",
    "        a = self.a - other.a\n",
    "        b = self.b - other.b\n",
    "        c = self.c - other.c\n",
    "        return Quadratic_Polynomial(a,b,c)\n",
    "    \n",
    "    def __eq__(self,other):\n",
    "        return self.a == other.a and self.b == other.b and self.c == self.c\n",
    "    \n",
    "    def __repr__(self):\n",
    "        return \"%dx^2 + %dx + %d\"%(self.a,self.b,self.c)\n",
    "    \n",
    "    def __str__(self):\n",
    "        ## set arguments in equation in list\n",
    "        string = [[\"\",str(self.a),\"x^2\"],[\"+ \",str(self.b),\"x\"],[\"+ \",str(self.c),\"\"]]\n",
    "        string2 = []\n",
    "        \n",
    "        ## only put sections with a/b/c != 0 into string2\n",
    "        for i in range(len(string)):\n",
    "            if float(string[i][1]) != 0:\n",
    "                string2.append(string[i])\n",
    "        \n",
    "        ## adjust +/-\n",
    "        for i in range(len(string2)):\n",
    "            if float(string[i][1]) < 0:\n",
    "                string2[i][0] = \"- \" # when a/b/c < 0 , set symbol as \"- \"\n",
    "                string2[i][1] = string2[i][1][1:] # when a/b/c < 0, set a/b/c as abstract\n",
    "            if string[i][1] == \"1\" and i < len(string2)-1:\n",
    "                string[i][1] = \"\" # if a/b/c = 1, don't display it, excluding last section.\n",
    "\n",
    "        if string2[0][0] == \"- \":\n",
    "            string2[0][0] = \"\" # when first section a/b/c < 0, rm symbol\n",
    "            string2[0][1] = \"-\" + string2[0][1] # when first section a/b/c < 0, make a/b/c negative\n",
    "\n",
    "    \n",
    "        return \" \".join([\"\".join(a) for a in string2])\n",
    "\n",
    "\n",
    "\n",
    "test1 = Quadratic_Polynomial(1,-2,-3)\n",
    "test1.evaluate(2)\n",
    "#test2 = Quadratic_Polynomial(1,2,3)\n",
    "#test3 = test1 - test2\n",
    "print(test1)\n"
   ]
  },
  {
   "cell_type": "code",
   "execution_count": 5,
   "metadata": {},
   "outputs": [
    {
     "name": "stdout",
     "output_type": "stream",
     "text": [
      "22.72 EUR\n",
      "46.43 EUR\n"
     ]
    }
   ],
   "source": [
    "import bs4          # The most important library for us, see the note below\n",
    "import requests     # Requests will allow us to access the website via HTTP requests\n",
    "import pandas as pd # A standard tabular data manipulation library\n",
    "\n",
    "def get_webpage(url):\n",
    "    response = requests.get(url)  #  Get the url\n",
    "    return bs4.BeautifulSoup(response.text, 'html.parser') #  Turn the url response into a BeautifulSoup object\n",
    "\n",
    "COLUMNS = ['cy-pair', 'rate']\n",
    "\n",
    "def scrape(webpage):\n",
    "    table = webpage.find(\"table\") # Find the \"table\" tag in the page\n",
    "    rows = table.find_all(\"tr\")  # Find all the \"tr\" tags in the table\n",
    "    cy_data = [] \n",
    "    for row in rows:\n",
    "        cells = row.find_all(\"td\") #  Find all the \"td\" tags in each row \n",
    "        cells = cells[1:3] # Select the correct columns (1 & 2 as python is 0-indexed)\n",
    "        cy_data.append([cell.text for cell in cells]) # For each \"td\" tag, get the text inside it\n",
    "    return pd.DataFrame(cy_data, columns=COLUMNS).drop(0, axis=0)\n",
    "\n",
    "\n",
    "class Currency:\n",
    "    def __init__(self, amount, unit):\n",
    "        URL = 'https://uk.finance.yahoo.com/currencies'\n",
    "        page = get_webpage(URL)\n",
    "        data = scrape(page)\n",
    "        self.currency_dict = dict(zip(data[\"cy-pair\"],data[\"rate\"]))\n",
    "        self.currency_dict = {key:float(values) for key, values in self.currency_dict.items()}\n",
    "        self.currency_dict.update({(key.split(\"/\")[1]+\"/\"+key.split(\"/\")[0]):(1/values) for key, values in self.currency_dict.items()})\n",
    "\n",
    "        self.amount = amount\n",
    "        self.unit = unit\n",
    "        \n",
    "    def __repr__(self):\n",
    "        return str(self.amount) + \" \"+ self.unit\n",
    "    \n",
    "    def convert(self, to_unit):\n",
    "        if to_unit != self.unit: # if same unit, self.converted_amount = self.amount\n",
    "            key = to_unit+\"/\"+self.unit\n",
    "            self.converted_amount = round(self.currency_dict[key] * self.amount,2)\n",
    "        else:\n",
    "            self.converted_amount = self.amount\n",
    "        print( str(self.converted_amount) + \" \"+ to_unit )\n",
    "        \n",
    "    def __add__(self,other):\n",
    "        if other.unit != self.unit:\n",
    "            other_key = self.unit +\"/\"+ other.unit\n",
    "            other_converted = round(self.currency_dict[other_key]*other.amount)\n",
    "        else: # if same unit, other_converted = other.amount\n",
    "            other_converted = other.amount\n",
    "        \n",
    "        return Currency(self.amount + other_converted,self.unit)\n",
    "\n",
    "v1 = Currency(23.43, \"EUR\")\n",
    "#v1.convert(\"USD\")\n",
    "v2 = Currency(19.97, \"USD\")\n",
    "v2.convert(\"EUR\")\n",
    "print(v1+v2)"
   ]
  },
  {
   "cell_type": "code",
   "execution_count": null,
   "metadata": {
    "collapsed": true
   },
   "outputs": [],
   "source": []
  },
  {
   "cell_type": "code",
   "execution_count": null,
   "metadata": {
    "collapsed": true
   },
   "outputs": [],
   "source": []
  }
 ],
 "metadata": {
  "kernelspec": {
   "display_name": "Python 3",
   "language": "python",
   "name": "python3"
  },
  "language_info": {
   "codemirror_mode": {
    "name": "ipython",
    "version": 3
   },
   "file_extension": ".py",
   "mimetype": "text/x-python",
   "name": "python",
   "nbconvert_exporter": "python",
   "pygments_lexer": "ipython3",
   "version": "3.6.3"
  }
 },
 "nbformat": 4,
 "nbformat_minor": 2
}
