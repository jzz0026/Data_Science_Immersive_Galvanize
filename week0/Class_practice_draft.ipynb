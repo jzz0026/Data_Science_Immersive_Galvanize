{
 "cells": [
  {
   "cell_type": "code",
   "execution_count": 2,
   "metadata": {},
   "outputs": [
    {
     "name": "stdout",
     "output_type": "stream",
     "text": [
      "I am not stupid\n"
     ]
    }
   ],
   "source": [
    "try:\n",
    "    4/0\n",
    "except Exception:\n",
    "    print(\"I am not stupid\")"
   ]
  },
  {
   "cell_type": "code",
   "execution_count": null,
   "metadata": {
    "collapsed": true
   },
   "outputs": [],
   "source": []
  },
  {
   "cell_type": "code",
   "execution_count": 5,
   "metadata": {},
   "outputs": [
    {
     "data": {
      "text/plain": [
       "1"
      ]
     },
     "execution_count": 5,
     "metadata": {},
     "output_type": "execute_result"
    }
   ],
   "source": [
    "eval(\"1\")"
   ]
  },
  {
   "cell_type": "code",
   "execution_count": 10,
   "metadata": {},
   "outputs": [
    {
     "data": {
      "text/plain": [
       "list"
      ]
     },
     "execution_count": 10,
     "metadata": {},
     "output_type": "execute_result"
    }
   ],
   "source": [
    "type(Exception)\n",
    "a = list(\"xx\")\n",
    "type(a)"
   ]
  },
  {
   "cell_type": "code",
   "execution_count": 13,
   "metadata": {},
   "outputs": [
    {
     "name": "stdout",
     "output_type": "stream",
     "text": [
      "Hello, John\n"
     ]
    }
   ],
   "source": [
    "class Person:\n",
    "    def __init__(self,name): #constructor arguments go here\n",
    "        # set up the state of your class instance\n",
    "        self.name =  name\n",
    "    def greet(self):\n",
    "        print(\"Hello, %s\"%self.name)\n",
    "perseron = Person(\"John\")\n",
    "perseron.greet()  \n",
    "    #methods go here\n",
    "    #they always have at least one argument, and the first argument is named `self`"
   ]
  },
  {
   "cell_type": "code",
   "execution_count": 19,
   "metadata": {},
   "outputs": [],
   "source": [
    "class Person:\n",
    "    def __init__(self,name): #constructor arguments go here\n",
    "        # set up the state of your class instance\n",
    "        self.name =  name\n",
    "    def greet(self):\n",
    "        print(\"Hello, %s\"%self.name)"
   ]
  },
  {
   "cell_type": "code",
   "execution_count": 25,
   "metadata": {},
   "outputs": [
    {
     "data": {
      "text/plain": [
       "'Data Scientist'"
      ]
     },
     "execution_count": 25,
     "metadata": {},
     "output_type": "execute_result"
    }
   ],
   "source": [
    "class SymmetricDict():\n",
    "    def __init__(self):\n",
    "        self.dictionary = {}\n",
    "    def __setitem__(self, key, value):\n",
    "        self.dictionary[key] = value\n",
    "    def __getitem__(self, key):\n",
    "        return self.dictionary[key]\n",
    "\n",
    "sym_dict = SymmetricDict()\n",
    "sym_dict[\"Matt\"] = \"Data Scientist\"\n",
    "sym_dict[\"Matt\"]"
   ]
  },
  {
   "cell_type": "code",
   "execution_count": null,
   "metadata": {
    "collapsed": true
   },
   "outputs": [],
   "source": [
    "$ f = LinearPolynomial(m=2, b=1)\n",
    "$ g = LinearPolynomial(m=-4, b=4)\n",
    "$ print(f)\n",
    "2x+1\n",
    "$ print(g)\n",
    "-4x+4\n",
    "$ f.evaluate(0)\n",
    "1\n",
    "$ f.evaluate(2)\n",
    "5\n",
    "$ g.evaluate(0)\n",
    "4\n",
    "$ g.evaluate(1)\n",
    "0"
   ]
  },
  {
   "cell_type": "code",
   "execution_count": 61,
   "metadata": {},
   "outputs": [
    {
     "name": "stdout",
     "output_type": "stream",
     "text": [
      "6x+-3\n"
     ]
    }
   ],
   "source": [
    "class LinearPolynomial:\n",
    "    def __init__(self,m,b):\n",
    "        self.m = m\n",
    "        self.b = b\n",
    "    def __add__(self, other):\n",
    "        m = self.m + other.m\n",
    "        b = self.b + other.b\n",
    "        #return self.m, self.b\n",
    "        return LinearPolynomial(m,b)\n",
    "    def __sub__(self, other):\n",
    "        m = self.m - other.m\n",
    "        b = self.b - other.b\n",
    "        return LinearPolynomial(m,b)\n",
    "    def __eq__(self,other):\n",
    "        return self.m == other.m    \n",
    "    def __str__(self):\n",
    "        return str(self.m)+\"x+\" +str(self.b)\n",
    "    def evaluate(self,x):\n",
    "        return (self.m * x) + self.b\n",
    "\n",
    "f = LinearPolynomial(m=2, b=1)\n",
    "g = LinearPolynomial(m=-4, b=4)\n",
    "\n",
    "x = f - g\n",
    "print(x)"
   ]
  },
  {
   "cell_type": "code",
   "execution_count": 64,
   "metadata": {},
   "outputs": [
    {
     "data": {
      "text/plain": [
       "True"
      ]
     },
     "execution_count": 64,
     "metadata": {},
     "output_type": "execute_result"
    }
   ],
   "source": [
    "class sth:\n",
    "    def me():\n",
    "        pass\n",
    "sth == sth"
   ]
  },
  {
   "cell_type": "code",
   "execution_count": 142,
   "metadata": {},
   "outputs": [
    {
     "data": {
      "text/plain": [
       "True"
      ]
     },
     "execution_count": 142,
     "metadata": {},
     "output_type": "execute_result"
    }
   ],
   "source": [
    "import string\n",
    "class PasswordValidator:\n",
    "    ## when putting nothing for contains_capital or contains_number, it switch off.\n",
    "    ## so they have to be False\n",
    "    def __init__(self, contains_capital=False,contains_number=False,symbols=[]):\n",
    "        self.symbols = symbols\n",
    "        self.contains_capital = contains_capital\n",
    "        self.contains_number = contains_number\n",
    "        \n",
    "    def validate(self, strings):\n",
    "\n",
    "        symbo_check =  len(set(self.symbols) - set(list(strings))) != len(self.symbols)\n",
    "        \n",
    "        if self.contains_capital == True:\n",
    "            capit_check =  len(set(list(string.ascii_uppercase)) -  set(list(strings))) != len(list(string.ascii_uppercase))\n",
    "        else:\n",
    "            capit_check = True \n",
    "            ## when self.contains_capital == False, assuming it was true so that \"&\" in return works\n",
    "        \n",
    "        if self.contains_number == True:\n",
    "            num = [\"0\",\"1\",\"2\",\"3\",\"4\",\"5\",\"6\",\"7\",\"8\",\"9\"]\n",
    "            num_check = len(set(num) - set(list(strings))) != len(num)\n",
    "        else:\n",
    "            num_check = True\n",
    "        \n",
    "        return (symbo_check&capit_check&num_check)\n",
    "\n",
    "validator = PasswordValidator(symbols=['!', '?', '#'])\n",
    "validator.validate('moshi?')"
   ]
  },
  {
   "cell_type": "code",
   "execution_count": 170,
   "metadata": {},
   "outputs": [
    {
     "data": {
      "text/plain": [
       "3.5"
      ]
     },
     "execution_count": 170,
     "metadata": {},
     "output_type": "execute_result"
    }
   ],
   "source": [
    "import numpy as np\n",
    "class VectorSegmenter:\n",
    "    def __init__(self, a_list):\n",
    "        self.a_list = a_list\n",
    "    def segment(self,bool_list):\n",
    "        self.new_list = [self.a_list[i] for i in range(len(self.a_list)) if bool_list[i] == True]\n",
    "        return self.new_list\n",
    "    def sum(self,bool_list):\n",
    "        return sum(self.new_list,bool_list)\n",
    "    def average(self,bool_list):\n",
    "        return np.mean(self.new_list)\n",
    "\n",
    "v = VectorSegmenter([1, 2, 3, 4, 5, 6])\n",
    "v.segment([True, True, False, False, True, True])\n",
    "v.average([True, True, False, False, True, True])\n"
   ]
  },
  {
   "cell_type": "code",
   "execution_count": null,
   "metadata": {
    "collapsed": true
   },
   "outputs": [],
   "source": [
    "$ room = DungeonRoom(10, 10)\n",
    "\n",
    "$ room.add_rectangle(1, 2, 5, 6)\n",
    "\n",
    "$ room.print_room()"
   ]
  },
  {
   "cell_type": "code",
   "execution_count": 188,
   "metadata": {},
   "outputs": [
    {
     "data": {
      "text/plain": [
       "[1, 2, 3, '#', '#', '#', 6]"
      ]
     },
     "execution_count": 188,
     "metadata": {},
     "output_type": "execute_result"
    }
   ],
   "source": [
    "x = [1,2,3,4,5,5,6]\n",
    "x[3:6] = ['#'] *3\n",
    "x"
   ]
  },
  {
   "cell_type": "code",
   "execution_count": 268,
   "metadata": {},
   "outputs": [
    {
     "name": "stdout",
     "output_type": "stream",
     "text": [
      "..........\n",
      "..####....\n",
      "..#..#....\n",
      "..#..#....\n",
      "..#.#####.\n",
      "..####..#.\n",
      "....#...#.\n",
      "....#...#.\n",
      "....#####.\n",
      "..........\n"
     ]
    }
   ],
   "source": [
    "#print((\".\"*10+\"\\n\")*10)\n",
    "class DungeonRoom:\n",
    "    def __init__(self,i,j):\n",
    "        self.i = i\n",
    "        self.j = j\n",
    "        self.room = []\n",
    "        for n in range(self.i):\n",
    "            self.room.append([\".\"]*self.j)\n",
    "    def add_rectangle(self,a,b,c,d):\n",
    "        self.room[a][b:d] = ['#'] * (d-b)\n",
    "        self.room[c][b:d] = ['#'] * (d-b)\n",
    "        for i in range(a+1,c):\n",
    "            self.room[i][b] = \"#\"\n",
    "            self.room[i][d-1] = \"#\"\n",
    "            \n",
    "    def print_room(self):\n",
    "        print(\"\\n\".join([\"\".join(a) for a in self.room]))\n",
    "     \n",
    "\n",
    "room = DungeonRoom(10, 10)\n",
    "#room.print_room()\n",
    "room.add_rectangle(1, 2, 5, 6)\n",
    "room.add_rectangle(4, 4, 8, 9)\n",
    "room.print_room()"
   ]
  },
  {
   "cell_type": "code",
   "execution_count": 499,
   "metadata": {},
   "outputs": [],
   "source": [
    "import numpy as np\n",
    "class DungeonRoom:\n",
    "    def __init__(self,i,j):\n",
    "        self.i = i\n",
    "        self.j = j\n",
    "        self.b_room =[]\n",
    "                \n",
    "        ## create a i x j array\n",
    "        self.room = np.full((self.i,self.j),\".\")\n",
    "        \n",
    "        ## creat a copy, so one for printing and the other for get overlap/union of boolean\n",
    "        self.room_ori = np.copy(self.room)\n",
    "        \n",
    "    def add_rectangle(self,a,b,c,d):      \n",
    "        ## add wall\n",
    "        self.room[a:c,b] = \"#\"\n",
    "        self.room[a:c,d-1] = \"#\"\n",
    "        self.room[a,b:d] = \"#\"\n",
    "        self.room[c-1,b:d] = \"#\"\n",
    "                \n",
    "        ## select overlap\n",
    "        room_bool = np.full((self.i, self.j), False) # creat a i x j array with full of False\n",
    "        \n",
    "        for i in range(a,c):\n",
    "            room_bool[i,b:d] = True # set True for inside rectangular \n",
    "        \n",
    "        self.b_room.append(room_bool) # self.b_room contain 1st and 2nd boolean array\n",
    "        \n",
    "        ## when there are more than one rectangular\n",
    "        if len(self.b_room) > 1:\n",
    "            b_room_int = np.all(self.b_room, axis=0) # overlap area\n",
    "            self.room[b_room_int] = \".\" # overlap area have to be \".\"\n",
    "            \n",
    "            self.b_room = [np.any(self.b_room, axis=0)] # replace the rectangular area with union \n",
    "                                                        # so always two boolean array in self.b_room\n",
    "        \n",
    "        \n",
    "    def print_room(self):\n",
    "        \n",
    "        print(\"\\n\".join([\"\".join(a) for a in self.room]))\n",
    "        \n",
    "\n",
    "\n",
    "\n",
    "\n"
   ]
  },
  {
   "cell_type": "code",
   "execution_count": 500,
   "metadata": {},
   "outputs": [
    {
     "name": "stdout",
     "output_type": "stream",
     "text": [
      "..........\n",
      "..####....\n",
      "..#..#....\n",
      "..#..#....\n",
      "..##..###.\n",
      "....#...#.\n",
      "..##....#.\n",
      "..#....##.\n",
      "..#####...\n",
      "..........\n"
     ]
    }
   ],
   "source": [
    "room = DungeonRoom(10, 10)\n",
    "room.add_rectangle(1, 2, 5, 6)\n",
    "room.add_rectangle(4, 4, 8, 9)\n",
    "room.add_rectangle(6, 2, 9, 7)\n",
    "\n",
    "room.print_room()"
   ]
  },
  {
   "cell_type": "code",
   "execution_count": 498,
   "metadata": {},
   "outputs": [
    {
     "data": {
      "text/plain": [
       "array([1, 0, 3])"
      ]
     },
     "execution_count": 498,
     "metadata": {},
     "output_type": "execute_result"
    }
   ],
   "source": [
    "Quadratic Polynomial\n",
    "Write a class that represents a quadratic polynomial, that is, an algebraic expression like a x^2 + b x + c. \n",
    "You should implement the following methods:\n",
    "\n",
    "evaluate, which will plug in a number for x and evaluate the results. It should return a single number.\n",
    "Methods for adding and subtracting quadratic polynomials.\n",
    "A method for testing if two quadratic polynomials are equal.\n",
    "A __repr__ method for displaying a quadratic polynomial to the console.\n",
    "As a bonus (this is more difficult than you will anticipate):\n",
    "\n",
    "Write a __str__ method that prints a polynomial out in the usual way: 2 x^2 - x + 3. Pay attention to the edge cases! \n",
    "Watch out for plus and minus signs, watch out for having coefficients of 1, where it is usual to now write them.\n",
    "Currency Converter\n",
    "Write a currency class that allows converting between different currencies. \n",
    "You'll need to build valid currencies and the conversion rates into the class. \n",
    "Here's an example of how it should work.\n",
    "\n",
    "z"
   ]
  },
  {
   "cell_type": "code",
   "execution_count": 631,
   "metadata": {},
   "outputs": [
    {
     "name": "stdout",
     "output_type": "stream",
     "text": [
      "x^2 - 2x - 3\n"
     ]
    }
   ],
   "source": [
    "class Quadratic_Polynomial:\n",
    "    def __init__(self,a,b,c):\n",
    "        self.a = a\n",
    "        self.b = b\n",
    "        self.c = c\n",
    "        \n",
    "    def evaluate(self,x):\n",
    "        return self.a * (x**2) + self.b*x + self.c\n",
    "    \n",
    "    def __add__(self,other):\n",
    "        a = self.a + other.a\n",
    "        b = self.b + other.b\n",
    "        c = self.c + other.c\n",
    "        return Quadratic_Polynomial(a,b,c)\n",
    "    \n",
    "    def __sub__(self,other):\n",
    "        a = self.a - other.a\n",
    "        b = self.b - other.b\n",
    "        c = self.c - other.c\n",
    "        return Quadratic_Polynomial(a,b,c)\n",
    "    \n",
    "    def __eq__(self,other):\n",
    "        return self.a == other.a and self.b == other.b and self.c == self.c\n",
    "    \n",
    "    def __repr__(self):\n",
    "        return \"%dx^2 + %dx + %d\"%(self.a,self.b,self.c)\n",
    "    \n",
    "    def __str__(self):\n",
    "        ## set arguments in equation in list\n",
    "        string = [[\"\",str(self.a),\"x^2\"],[\"+ \",str(self.b),\"x\"],[\"+ \",str(self.c),\"\"]]\n",
    "        string2 = []\n",
    "        \n",
    "        ## only put sections with a/b/c != 0 into string2\n",
    "        for i in range(len(string)):\n",
    "            if float(string[i][1]) != 0:\n",
    "                string2.append(string[i])\n",
    "        \n",
    "        ## adjust +/-\n",
    "        for i in range(len(string2)):\n",
    "            if float(string[i][1]) < 0:\n",
    "                string2[i][0] = \"- \" # when a/b/c < 0 , set symbol as \"- \"\n",
    "                string2[i][1] = string2[i][1][1:] # when a/b/c < 0, set a/b/c as abstract\n",
    "            if string[i][1] == \"1\" and i < len(string2)-1:\n",
    "                string[i][1] = \"\" # if a/b/c = 1, don't display it, excluding last section.\n",
    "\n",
    "        if string2[0][0] == \"- \":\n",
    "            string2[0][0] = \"\" # when first section a/b/c < 0, rm symbol\n",
    "            string2[0][1] = \"-\" + string2[0][1] # when first section a/b/c < 0, make a/b/c negative\n",
    "\n",
    "    \n",
    "        return \" \".join([\"\".join(a) for a in string2])\n",
    "\n",
    "\n",
    "\n",
    "test1 = Quadratic_Polynomial(1,-2,-3)\n",
    "test1.evaluate(2)\n",
    "#test2 = Quadratic_Polynomial(1,2,3)\n",
    "#test3 = test1 - test2\n",
    "print(test1)\n"
   ]
  },
  {
   "cell_type": "code",
   "execution_count": 548,
   "metadata": {},
   "outputs": [],
   "source": [
    "self_a =1\n",
    "self_b =2\n",
    "self_c =-3"
   ]
  },
  {
   "cell_type": "code",
   "execution_count": 628,
   "metadata": {},
   "outputs": [
    {
     "name": "stdout",
     "output_type": "stream",
     "text": [
      "x^2 - 2x - 1\n",
      "[['', '', 'x^2'], ['- ', '2', 'x'], ['- ', '1', '']]\n"
     ]
    }
   ],
   "source": [
    "self_a = 1\n",
    "self_b = -2\n",
    "self_c = -1\n",
    "\n",
    "string = [[\"\",str(self_a),\"x^2\"],[\"+ \",str(self_b),\"x\"],[\"+ \",str(self_c),\"\"]]\n",
    "string2 = []\n",
    "for i in range(len(string)):\n",
    "    if float(string[i][1]) != 0:\n",
    "        string2.append(string[i])\n",
    "\n",
    "for i in range(len(string2)):\n",
    "    if float(string[i][1]) < 0:\n",
    "        string2[i][0] = \"- \"\n",
    "        string2[i][1] = string2[i][1][1:]\n",
    "    if string[i][1] == \"1\" and i < len(string2)-1:\n",
    "        string[i][1] = \"\"\n",
    "\n",
    "if string2[0][0] == \"- \":\n",
    "    string2[0][0] = \"\"\n",
    "    string2[0][1] = \"-\" + string2[0][1]\n",
    "\n",
    "    \n",
    "print(\" \".join([\"\".join(a) for a in string2]))\n",
    "print(string2)"
   ]
  },
  {
   "cell_type": "code",
   "execution_count": 718,
   "metadata": {},
   "outputs": [
    {
     "name": "stdout",
     "output_type": "stream",
     "text": [
      "22.7 EUR\n",
      "46.43 EUR\n"
     ]
    }
   ],
   "source": [
    "import bs4          # The most important library for us, see the note below\n",
    "import requests     # Requests will allow us to access the website via HTTP requests\n",
    "import pandas as pd # A standard tabular data manipulation library\n",
    "\n",
    "def get_webpage(url):\n",
    "    response = requests.get(url)  #  Get the url\n",
    "    return bs4.BeautifulSoup(response.text, 'html.parser') #  Turn the url response into a BeautifulSoup object\n",
    "\n",
    "COLUMNS = ['cy-pair', 'rate']\n",
    "\n",
    "def scrape(webpage):\n",
    "    table = webpage.find(\"table\") # Find the \"table\" tag in the page\n",
    "    rows = table.find_all(\"tr\")  # Find all the \"tr\" tags in the table\n",
    "    cy_data = [] \n",
    "    for row in rows:\n",
    "        cells = row.find_all(\"td\") #  Find all the \"td\" tags in each row \n",
    "        cells = cells[1:3] # Select the correct columns (1 & 2 as python is 0-indexed)\n",
    "        cy_data.append([cell.text for cell in cells]) # For each \"td\" tag, get the text inside it\n",
    "    return pd.DataFrame(cy_data, columns=COLUMNS).drop(0, axis=0)\n",
    "\n",
    "\n",
    "class Currency:\n",
    "    def __init__(self, amount, unit):\n",
    "        URL = 'https://uk.finance.yahoo.com/currencies'\n",
    "        page = get_webpage(URL)\n",
    "        data = scrape(page)\n",
    "        self.currency_dict = dict(zip(data[\"cy-pair\"],data[\"rate\"]))\n",
    "        self.currency_dict = {key:float(values) for key, values in self.currency_dict.items()}\n",
    "        self.currency_dict.update({(key.split(\"/\")[1]+\"/\"+key.split(\"/\")[0]):(1/values) for key, values in self.currency_dict.items()})\n",
    "\n",
    "        self.amount = amount\n",
    "        self.unit = unit\n",
    "        \n",
    "    def __repr__(self):\n",
    "        return str(self.amount) + \" \"+ self.unit\n",
    "    \n",
    "    def convert(self, to_unit):\n",
    "        if to_unit != self.unit: # if same unit, self.converted_amount = self.amount\n",
    "            key = to_unit+\"/\"+self.unit\n",
    "            self.converted_amount = round(self.currency_dict[key] * self.amount,2)\n",
    "        else:\n",
    "            self.converted_amount = self.amount\n",
    "        print( str(self.converted_amount) + \" \"+ to_unit )\n",
    "        \n",
    "    def __add__(self,other):\n",
    "        if other.unit != self.unit:\n",
    "            other_key = self.unit +\"/\"+ other.unit\n",
    "            other_converted = round(self.currency_dict[other_key]*other.amount)\n",
    "        else: # if same unit, other_converted = other.amount\n",
    "            other_converted = other.amount\n",
    "        \n",
    "        return Currency(self.amount + other_converted,self.unit)\n",
    "\n",
    "v1 = Currency(23.43, \"EUR\")\n",
    "#v1.convert(\"USD\")\n",
    "v2 = Currency(19.97, \"USD\")\n",
    "v2.convert(\"EUR\")\n",
    "print(v1+v2)"
   ]
  },
  {
   "cell_type": "code",
   "execution_count": 712,
   "metadata": {},
   "outputs": [
    {
     "name": "stdout",
     "output_type": "stream",
     "text": [
      "41.43 EUR\n"
     ]
    }
   ],
   "source": [
    "print(v1+v2)"
   ]
  },
  {
   "cell_type": "code",
   "execution_count": 703,
   "metadata": {
    "collapsed": true
   },
   "outputs": [],
   "source": [
    "test = v1+v2\n",
    "test"
   ]
  },
  {
   "cell_type": "code",
   "execution_count": 702,
   "metadata": {},
   "outputs": [
    {
     "data": {
      "text/plain": [
       "{'AUD/GBP': 0.5567618729469406,\n",
       " 'BRL/GBP': 0.20712510356255176,\n",
       " 'CAD/EUR': 0.6642311524410495,\n",
       " 'CAD/GBP': 0.5860977611065525,\n",
       " 'CAD/USD': 0.7546030787805614,\n",
       " 'CHF/EUR': 0.8844078889183691,\n",
       " 'CHF/GBP': 0.7805182641273807,\n",
       " 'CHF/USD': 1.0050251256281406,\n",
       " 'CNY/GBP': 0.11463026009606017,\n",
       " 'CNY/USD': 0.1475709816421699,\n",
       " 'EUR/CAD': 1.5055,\n",
       " 'EUR/CHF': 1.1307,\n",
       " 'EUR/GBP': 0.8829242450997704,\n",
       " 'EUR/HUF': 317.6,\n",
       " 'EUR/JPY': 124.74,\n",
       " 'EUR/SEK': 10.2557,\n",
       " 'EUR/USD': 1.1368,\n",
       " 'GBP/AUD': 1.7961,\n",
       " 'GBP/BRL': 4.828,\n",
       " 'GBP/CAD': 1.7062000000000002,\n",
       " 'GBP/CHF': 1.2812,\n",
       " 'GBP/CNY': 8.7237,\n",
       " 'GBP/EUR': 1.1326,\n",
       " 'GBP/INR': 91.6473,\n",
       " 'GBP/JPY': 141.33,\n",
       " 'GBP/NOK': 11.022,\n",
       " 'GBP/QAR': 4.6865,\n",
       " 'GBP/USD': 1.2874,\n",
       " 'GBP/ZAR': 17.7844,\n",
       " 'HKD/USD': 0.12751849018107625,\n",
       " 'HUF/EUR': 0.003148614609571788,\n",
       " 'INR/GBP': 0.010911396189522223,\n",
       " 'INR/USD': 0.014045141083442184,\n",
       " 'JPY/EUR': 0.00801667468334135,\n",
       " 'JPY/GBP': 0.007075638576381518,\n",
       " 'JPY/USD': 0.009109791203585613,\n",
       " 'MXN/USD': 0.052419143471195674,\n",
       " 'NOK/GBP': 0.09072763563781527,\n",
       " 'QAR/GBP': 0.2133788541555532,\n",
       " 'SEK/EUR': 0.09750675234259973,\n",
       " 'SGD/USD': 0.736105999263894,\n",
       " 'USD/CAD': 1.3252,\n",
       " 'USD/CHF': 0.9950000000000001,\n",
       " 'USD/CNY': 6.7764,\n",
       " 'USD/EUR': 0.8796622097114708,\n",
       " 'USD/GBP': 0.7768,\n",
       " 'USD/HKD': 7.8420000000000005,\n",
       " 'USD/INR': 71.199,\n",
       " 'USD/JPY': 109.77200000000002,\n",
       " 'USD/MXN': 19.077,\n",
       " 'USD/SGD': 1.3585,\n",
       " 'ZAR/GBP': 0.05622905467713276}"
      ]
     },
     "execution_count": 702,
     "metadata": {},
     "output_type": "execute_result"
    }
   ],
   "source": [
    "v1.currency_dict.update({(key.split(\"/\")[1]+\"/\"+key.split(\"/\")[0]):(1/values) for key, values in v1.currency_dict.items()})\n",
    "v1.currency_dict"
   ]
  },
  {
   "cell_type": "code",
   "execution_count": null,
   "metadata": {
    "collapsed": true
   },
   "outputs": [],
   "source": [
    "$ from currencies import CurrencyConverter\n",
    "$ v1 = Currency(23.43, \"EUR\")\n",
    "$ v2 = Currency(19.97, \"USD\")\n",
    "$ v1\n",
    "23.43 EUR\n",
    "$ v1.convert(\"USD\")\n",
    "27.72 USD\n",
    "$ print(v1 + v2)\n",
    "40.31 EUR"
   ]
  },
  {
   "cell_type": "code",
   "execution_count": 735,
   "metadata": {},
   "outputs": [
    {
     "data": {
      "text/plain": [
       "[<matplotlib.lines.Line2D at 0x1a274af940>]"
      ]
     },
     "execution_count": 735,
     "metadata": {},
     "output_type": "execute_result"
    },
    {
     "data": {
      "image/png": "[encoded data removed]",
      "text/plain": [
       "<matplotlib.figure.Figure at 0x1a274af908>"
      ]
     },
     "metadata": {},
     "output_type": "display_data"
    }
   ],
   "source": [
    "import scipy.stats as scs\n",
    "import matplotlib.pyplot as plt\n",
    "%matplotlib inline\n",
    "\n",
    "\n",
    "#mean, var, skew, kurt = scs.binom.stats(1000, 0.005, moments='mvsk')\n",
    "n=1000\n",
    "p=0.005\n",
    "\n",
    "probs_list = []\n",
    "k_list = np.arange(0,n+1)\n",
    "for i in k_list:\n",
    "    prob = scs.binom.pmf(i, n, p)\n",
    "    probs_list.append(prob)\n",
    "    \n",
    "fig, ax = plt.subplots(1, 1)\n",
    "ax.plot(k_list,probs_list)"
   ]
  },
  {
   "cell_type": "code",
   "execution_count": 737,
   "metadata": {},
   "outputs": [
    {
     "data": {
      "text/plain": [
       "5"
      ]
     },
     "execution_count": 737,
     "metadata": {},
     "output_type": "execute_result"
    }
   ],
   "source": [
    "probs_list.index(max(probs_list))"
   ]
  },
  {
   "cell_type": "code",
   "execution_count": 741,
   "metadata": {},
   "outputs": [
    {
     "data": {
      "text/plain": [
       "0.031465238511286589"
      ]
     },
     "execution_count": 741,
     "metadata": {},
     "output_type": "execute_result"
    }
   ],
   "source": [
    "sum(probs_list[10:])"
   ]
  },
  {
   "cell_type": "code",
   "execution_count": 814,
   "metadata": {},
   "outputs": [
    {
     "data": {
      "text/plain": [
       "<matplotlib.collections.PathCollection at 0x1a28608c88>"
      ]
     },
     "execution_count": 814,
     "metadata": {},
     "output_type": "execute_result"
    },
    {
     "data": {
      "image/png": "[encoded data removed]",
      "text/plain": [
       "<matplotlib.figure.Figure at 0x1a285cd6d8>"
      ]
     },
     "metadata": {},
     "output_type": "display_data"
    }
   ],
   "source": [
    "data=[-0.24525234,0.34258838,0.66512235,-2.15445321,1.30069225,0.42041963\n",
    ",-0.67904514,0.2990795,-0.20201848,0.05410431,0.26106412,-0.89171509\n",
    ",-0.15872403,0.83111975,-0.11941908,0.00667906,0.10079108,-0.60899067\n",
    ",0.52596165,0.08029374,0.80668211,-0.10465914,-0.44508377,-0.76350006\n",
    ",0.55267201,0.53581223,-0.68529436,-0.64163356,0.4809197,-0.97424692\n",
    ",-0.12309056,0.30210824,-0.50851312,0.49089701,-0.5729919,1.84253363\n",
    ",-0.77796115,0.49132436,-0.50516287,-0.09554953,0.70306746,0.17312964\n",
    ",1.37490091,-0.72273023,-0.68162468,0.01836007,0.71899727,-0.86227295\n",
    ",-0.04175399,-0.21037323]\n",
    "\n",
    "plt.figure(figsize=(15,2))\n",
    "plt.scatter(data,np.random.uniform(0,0.2,len(data)))\n"
   ]
  },
  {
   "cell_type": "code",
   "execution_count": null,
   "metadata": {
    "collapsed": true
   },
   "outputs": [],
   "source": []
  },
  {
   "cell_type": "code",
   "execution_count": 815,
   "metadata": {},
   "outputs": [
    {
     "name": "stdout",
     "output_type": "stream",
     "text": [
      "Log-Lik of Two Parameter Normal Model With mu=-1, sigma_sq=0.5: -102.05\n",
      "Log-Lik of Two Parameter Normal Model With mu=-1, sigma_sq=1: -82.66\n",
      "Log-Lik of Two Parameter Normal Model With mu=-1, sigma_sq=2: -81.63\n",
      "Log-Lik of Two Parameter Normal Model With mu=0, sigma_sq=0.5: -52.85\n",
      "Log-Lik of Two Parameter Normal Model With mu=0, sigma_sq=1: -58.06\n",
      "Log-Lik of Two Parameter Normal Model With mu=0, sigma_sq=2: -69.33\n",
      "Log-Lik of Two Parameter Normal Model With mu=1, sigma_sq=0.5: -103.64\n",
      "Log-Lik of Two Parameter Normal Model With mu=1, sigma_sq=1: -83.46\n",
      "Log-Lik of Two Parameter Normal Model With mu=1, sigma_sq=2: -82.03\n"
     ]
    }
   ],
   "source": [
    "from scipy.stats import norm\n",
    "\n",
    "def log_likelihood_normal_two_parameters(mu, sigma_sq, data_in):\n",
    "    \"\"\"\n",
    "    Consume the parameters mu (mean) and sigma_sq (variance) of a normal\n",
    "    distribution, and compute the likelihood of a fixed dataset (data_in).\n",
    "    \"\"\"\n",
    "    normal = norm(mu, np.sqrt(sigma_sq))\n",
    "    likelihoods = [normal.pdf(datum) for datum in data_in]\n",
    "    return np.sum(np.log(likelihoods))\n",
    "\n",
    "def minus_log_likelihood_normal_two_parameters(mu, sigma, data_in):\n",
    "    return - log_likelihood_normal_two_parameters(mu, sigma, data_in)\n",
    "\n",
    "from itertools import product\n",
    "\n",
    "for mu, sigma_sq in product([-1, 0, 1], [0.5, 1, 2]):\n",
    "    print(\"Log-Lik of Two Parameter Normal Model With mu={0}, sigma_sq={1}: {2:3.2f}\".format(\n",
    "        mu, sigma_sq, log_likelihood_normal_two_parameters(mu, sigma_sq, data))\n",
    "    )"
   ]
  },
  {
   "cell_type": "code",
   "execution_count": 816,
   "metadata": {},
   "outputs": [
    {
     "name": "stdout",
     "output_type": "stream",
     "text": [
      "Log-Lik Optimal Parameters: mu = -0.008, sigma_sq = 0.484\n"
     ]
    }
   ],
   "source": [
    "from scipy import optimize as optim\n",
    "def wrapper_for_scipy(x):\n",
    "    \"\"\"\n",
    "    The optimizer in scipy needs to consume a function that takes one numpy array\n",
    "    as an argument, so this simple wrapper unpacks a two element array and passes\n",
    "    the values into the log-likelihood. Similarly, the input data is taken in as\n",
    "    a global variable.\n",
    "    \"\"\"\n",
    "    return minus_log_likelihood_normal_two_parameters(x[0], x[1], data)\n",
    "\n",
    "# the *maximum* log-likelihood is the one closest to zero,\n",
    "# therefore: we want to *minimize* minus_log_likelihood\n",
    "fit_parms = optim.minimize(wrapper_for_scipy, (0, 1), method='Nelder-Mead')\n",
    "mu, sigma_sq = fit_parms.x\n",
    "\n",
    "print(\"Log-Lik Optimal Parameters: mu = {0:2.3f}, sigma_sq = {1:2.3f}\".format(mu, sigma_sq))"
   ]
  },
  {
   "cell_type": "code",
   "execution_count": 818,
   "metadata": {},
   "outputs": [
    {
     "data": {
      "text/plain": [
       "array([-0.00797139,  0.48447302])"
      ]
     },
     "execution_count": 818,
     "metadata": {},
     "output_type": "execute_result"
    }
   ],
   "source": [
    "fit_parms.x"
   ]
  },
  {
   "cell_type": "code",
   "execution_count": 845,
   "metadata": {},
   "outputs": [
    {
     "name": "stdout",
     "output_type": "stream",
     "text": [
      "Sample Mean: 8.10\n",
      "Sample Variance: 8.45\n",
      "a = 3.07\n",
      "b = 13.13\n"
     ]
    }
   ],
   "source": [
    "unif_data =  np.array([ 12.74150234,   7.48813381,  11.7510409 ,   5.93809414,\n",
    "                         4.68964288,   3.70627976,   3.46101127,   6.41408594,\n",
    "                        10.21747766,   8.71674398,   3.60720254,   9.65162582,\n",
    "                         6.58295132,   7.31954815,   7.49708025,   5.66849976,\n",
    "                         6.35144344,  12.08445868,   7.80220492,   9.83051264,\n",
    "                        12.19963228,   3.59743489,  11.4528373 ,   5.77606004,\n",
    "                        10.68932553,  10.41001181,  12.31509935,  12.31377402,\n",
    "                         9.99084698,   5.64170829,   4.8600061 ,   3.83064209,\n",
    "                         5.80984023,  11.87182268,   8.62335338,   5.27884731,\n",
    "                        12.12025134,   4.35138826,   4.26284551,   6.70120651,\n",
    "                        12.91554048,  10.58164179,  10.33635382,   9.18362962,\n",
    "                         7.06904495,  10.03298992,   5.95876344,   6.05199525,\n",
    "                        10.08473599,   9.1744051 ])\n",
    "mu = np.mean(unif_data)\n",
    "var = np.var(unif_data)\n",
    "print(\"Sample Mean: {0:1.2f}\".format(mu))\n",
    "print(\"Sample Variance: {0:1.2f}\".format(var))\n",
    "\n",
    "a, b = mu - np.sqrt(3 * var), mu + np.sqrt(3 * var)\n",
    "\n",
    "print(\"a = {0:2.2f}\".format(a))\n",
    "print(\"b = {0:2.2f}\".format(b))"
   ]
  },
  {
   "cell_type": "code",
   "execution_count": 846,
   "metadata": {},
   "outputs": [],
   "source": [
    "?scs.uniform.fit(unif_data)"
   ]
  },
  {
   "cell_type": "code",
   "execution_count": 848,
   "metadata": {},
   "outputs": [
    {
     "data": {
      "text/plain": [
       "(11.596536036, 0.89306888704493925)"
      ]
     },
     "execution_count": 848,
     "metadata": {},
     "output_type": "execute_result"
    }
   ],
   "source": [
    "data = np.array([ 12.1085187 ,  12.10867427,  11.21137858,  10.01311363,\n",
    "                  10.79744224,  13.19280269,  12.44086123,  11.88810057,\n",
    "                  10.70064104,  11.50382741])\n",
    "scs.norm.fit(data)"
   ]
  },
  {
   "cell_type": "code",
   "execution_count": 850,
   "metadata": {},
   "outputs": [
    {
     "data": {
      "text/plain": [
       "1.1990651327597411e-31"
      ]
     },
     "execution_count": 850,
     "metadata": {},
     "output_type": "execute_result"
    }
   ],
   "source": [
    "mu,var = scs.norm.fit(data)\n",
    "normal = scs.norm(mu,var)\n",
    "normal.pdf(1)"
   ]
  },
  {
   "cell_type": "code",
   "execution_count": 851,
   "metadata": {
    "collapsed": true
   },
   "outputs": [],
   "source": [
    "def log_likelihood_normal_two_parameters(mu, sigma_sq, data_in):\n",
    "    normal = scs.norm(mu,sigma_sq)\n",
    "    return np.sum([np.log(normal.pdf(each)) for each in data_in])"
   ]
  },
  {
   "cell_type": "code",
   "execution_count": 856,
   "metadata": {},
   "outputs": [
    {
     "name": "stdout",
     "output_type": "stream",
     "text": [
      "10 \t 1 \t -25.9218820883\n",
      "10 \t 1.1 \t -23.970996846\n",
      "10 \t 1.2 \t -22.6323903141\n",
      "11 \t 1 \t -14.9565217283\n",
      "11 \t 1.1 \t -14.9087155568\n",
      "11 \t 1.2 \t -15.0175567307\n",
      "12 \t 1 \t -13.9911613683\n",
      "12 \t 1.1 \t -14.1108970774\n",
      "12 \t 1.2 \t -14.3471675918\n"
     ]
    }
   ],
   "source": [
    "from itertools import product\n",
    "\n",
    "for mu, sigma_sq in product([10, 11, 12], [1, 1.1, 1.2]):\n",
    "    print(mu,\"\\t\", sigma_sq, \"\\t\",log_likelihood_normal_two_parameters(mu, sigma_sq, data))"
   ]
  },
  {
   "cell_type": "code",
   "execution_count": null,
   "metadata": {
    "collapsed": true
   },
   "outputs": [],
   "source": [
    "27213 visitors, out of a total of 108879, clicked the button. If you assume that the pr"
   ]
  },
  {
   "cell_type": "code",
   "execution_count": 870,
   "metadata": {},
   "outputs": [
    {
     "data": {
      "text/plain": [
       "0.9114657587436571"
      ]
     },
     "execution_count": 870,
     "metadata": {},
     "output_type": "execute_result"
    }
   ],
   "source": [
    "p = 56330/226977\n",
    "#var = 56330*(1-56330/226977)\n",
    "\n",
    "#binomal = scs.binom(108879,p)\n",
    "scs.binom.pmf(27213,108879,p)\n",
    "scs.binom.cdf(27213,108879,p)"
   ]
  },
  {
   "cell_type": "code",
   "execution_count": 903,
   "metadata": {},
   "outputs": [
    {
     "data": {
      "text/plain": [
       "array([ 26503.  ,  26513.06,  26523.12,  26533.18,  26543.24,  26553.3 ,\n",
       "        26563.36,  26573.42,  26583.48,  26593.54,  26603.6 ,  26613.66,\n",
       "        26623.72,  26633.78,  26643.84,  26653.9 ,  26663.96,  26674.02,\n",
       "        26684.08,  26694.14,  26704.2 ,  26714.26,  26724.32,  26734.38,\n",
       "        26744.44,  26754.5 ,  26764.56,  26774.62,  26784.68,  26794.74,\n",
       "        26804.8 ,  26814.86,  26824.92,  26834.98,  26845.04,  26855.1 ,\n",
       "        26865.16,  26875.22,  26885.28,  26895.34,  26905.4 ,  26915.46,\n",
       "        26925.52,  26935.58,  26945.64,  26955.7 ,  26965.76,  26975.82,\n",
       "        26985.88,  26995.94,  27006.  ,  27016.06,  27026.12,  27036.18,\n",
       "        27046.24,  27056.3 ,  27066.36,  27076.42,  27086.48,  27096.54,\n",
       "        27106.6 ,  27116.66,  27126.72,  27136.78,  27146.84,  27156.9 ,\n",
       "        27166.96,  27177.02,  27187.08,  27197.14,  27207.2 ,  27217.26,\n",
       "        27227.32,  27237.38,  27247.44,  27257.5 ,  27267.56,  27277.62,\n",
       "        27287.68,  27297.74,  27307.8 ,  27317.86,  27327.92,  27337.98,\n",
       "        27348.04,  27358.1 ,  27368.16,  27378.22,  27388.28,  27398.34,\n",
       "        27408.4 ,  27418.46,  27428.52,  27438.58,  27448.64,  27458.7 ,\n",
       "        27468.76,  27478.82,  27488.88,  27498.94,  27509.  ])"
      ]
     },
     "execution_count": 903,
     "metadata": {},
     "output_type": "execute_result"
    },
    {
     "data": {
      "image/png": "[encoded data removed]",
      "text/plain": [
       "<matplotlib.figure.Figure at 0x1a29f2fa90>"
      ]
     },
     "metadata": {},
     "output_type": "display_data"
    }
   ],
   "source": [
    "data_1d = scs.binom.rvs(108879,p,size=10000)\n",
    "data_1d = sorted(data_1d)\n",
    "x = plt.hist(data_1d,bins=100)\n",
    "x[1]\n",
    "#plt.plot(x[1][:-1],x[0])"
   ]
  },
  {
   "cell_type": "code",
   "execution_count": 907,
   "metadata": {},
   "outputs": [
    {
     "name": "stdout",
     "output_type": "stream",
     "text": [
      "Object `scs.binom.fit` not found.\n"
     ]
    }
   ],
   "source": [
    "scs.binom."
   ]
  },
  {
   "cell_type": "code",
   "execution_count": null,
   "metadata": {
    "collapsed": true
   },
   "outputs": [],
   "source": []
  }
 ],
 "metadata": {
  "kernelspec": {
   "display_name": "Python 3",
   "language": "python",
   "name": "python3"
  },
  "language_info": {
   "codemirror_mode": {
    "name": "ipython",
    "version": 3
   },
   "file_extension": ".py",
   "mimetype": "text/x-python",
   "name": "python",
   "nbconvert_exporter": "python",
   "pygments_lexer": "ipython3",
   "version": "3.6.3"
  }
 },
 "nbformat": 4,
 "nbformat_minor": 2
}
