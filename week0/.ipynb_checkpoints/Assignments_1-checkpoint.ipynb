{
 "cells": [
  {
   "cell_type": "code",
   "execution_count": 1,
   "metadata": {},
   "outputs": [
    {
     "name": "stdout",
     "output_type": "stream",
     "text": [
      "563\n"
     ]
    }
   ],
   "source": [
    "def fizz_buzz_sum(numbers):\n",
    "    '''Sums all numbers in a list that are either a multiple of 3 or 5.\n",
    "\n",
    "    Parameters\n",
    "    ----------\n",
    "    numbers: list\n",
    "      A list of integers.\n",
    "\n",
    "    Returns\n",
    "    -------\n",
    "    sum: int\n",
    "      The sum of all the numeric data in the list, excluding those summands\n",
    "      divisible by 3 or 5.\n",
    "    '''\n",
    "    new_numbers = [a for a in numbers if (a%3 == 0) or (a%5== 0)]\n",
    "    return sum(new_numbers)\n",
    "\n",
    "print(fizz_buzz_sum([1,2,3,4,5,555]))\n",
    "\n"
   ]
  },
  {
   "cell_type": "code",
   "execution_count": 2,
   "metadata": {},
   "outputs": [
    {
     "name": "stdout",
     "output_type": "stream",
     "text": [
      "[[ 1.  4.]\n",
      " [ 2.  5.]\n",
      " [ 3.  6.]]\n"
     ]
    }
   ],
   "source": [
    "import numpy as np\n",
    "def transpose(matrix):\n",
    "    '''Transpose a matrix.  That is, reverse the roles of rows and columns\n",
    "\n",
    "    $ transpose([[1, 2, 3], [4, 5, 6]])\n",
    "    [[1, 4], [2, 5], [3, 6]]\n",
    "\n",
    "    Parameters\n",
    "    ----------\n",
    "    matrix: list of lists of numbers.\n",
    "\n",
    "    Returns\n",
    "    -------\n",
    "    transposed: list of lists of numbers\n",
    "      The transposed matrix.\n",
    "    '''\n",
    "    row_num = len(matrix)\n",
    "    col_num = len(matrix[0])\n",
    "    new_matrix = np.zeros((col_num,row_num))\n",
    "    #new_matrix = [[0] * row_num] * col_num\n",
    "\n",
    "    for i in range(col_num):\n",
    "        for j in range(row_num):\n",
    "            new_matrix[i][j] = matrix[j][i]\n",
    "    return new_matrix\n",
    "\n",
    "print(transpose([[1, 2, 3], [4, 5, 6]]))\n",
    "\n"
   ]
  },
  {
   "cell_type": "code",
   "execution_count": 3,
   "metadata": {},
   "outputs": [
    {
     "name": "stdout",
     "output_type": "stream",
     "text": [
      "['aasasas', 'xxfljdfjdlkfjldjfl', ';;']\n"
     ]
    }
   ],
   "source": [
    "import string\n",
    "def split_vowel_consonant_punctuation(stri):\n",
    "    '''Split a string into three strings: one containing vowels, one containing\n",
    "    consonants, and one containing punctuation.\n",
    "\n",
    "    $ s = \"My cat's name is Moshi!  She is old, but friendly.\"\n",
    "    $ split_vowel_consonant_punctuation(s)\n",
    "    [\"aaeioieiouie\", \"MyctsnmsMshShsldbtfrndly\", \" '   !    ,  .\"]\n",
    "\n",
    "    Hint: Look up the `.join` method on strings!\n",
    "\n",
    "    Parameters\n",
    "    ----------\n",
    "    string: str\n",
    "\n",
    "    Returns\n",
    "    -------\n",
    "    vowel_consonant_punctuation: list of three strings.\n",
    "      The first element in the list contains only vowels, the second only\n",
    "      consonants, and the third only punctuation. \n",
    "    '''\n",
    "    all_letter = set(string.ascii_lowercase + string.ascii_lowercase.upper())\n",
    "    vowels = {\"a\",\"e\",\"i\",\"o\",\"u\",\"A\",\"E\",\"I\",\"O\",\"U\",\"S\",\"s\"}\n",
    "    consonants = all_letter - vowels\n",
    "    stri_vowels = []\n",
    "    stri_consonants = []\n",
    "    others = []\n",
    "    for letter in stri:\n",
    "        if letter in vowels:\n",
    "            stri_vowels.append(letter)\n",
    "        elif letter in consonants:\n",
    "            stri_consonants.append(letter)\n",
    "        else:\n",
    "            others.append(letter)\n",
    "    return [\"\".join(stri_vowels),\"\".join(stri_consonants),\"\".join(others)]\n",
    "print(split_vowel_consonant_punctuation(\"xxflajdfajs;dlkfja;lsdjfals\"))\n",
    "\n"
   ]
  },
  {
   "cell_type": "code",
   "execution_count": 4,
   "metadata": {},
   "outputs": [
    {
     "name": "stdout",
     "output_type": "stream",
     "text": [
      "[[1], [2, 3], [3, 4, 5]]\n",
      "[4, 7, 10]\n"
     ]
    }
   ],
   "source": [
    "def make_triangle(n):\n",
    "    '''Make a triangle containing the integers from 0 to (n+1)*n / 2\n",
    "\n",
    "    $ make_triangle(2)\n",
    "    [[1], [2, 3]]\n",
    "    $ make_triangle(3)\n",
    "    [[1], [2, 3], [4, 5, 6]]\n",
    "\n",
    "    Parameters\n",
    "    ----------\n",
    "    n: positive integer\n",
    "\n",
    "    Returns\n",
    "    -------\n",
    "    triangle: list of lists of integers\n",
    "      A triangle continaing the consecutive integers\n",
    "    '''\n",
    "    new_list = []\n",
    "    for i in range(1,int((n+1)*n / 2)):\n",
    "        new_list.append(list(range(i,2*i)))\n",
    "        if i > n -1 :\n",
    "            break \n",
    "    return new_list\n",
    "\n",
    "print(make_triangle(3))\n",
    "\n",
    "def triangle_sum(triangle):\n",
    "    '''Sum the diagonals of a triangle of numbers.\n",
    "\n",
    "    $ triangle_sum([[1], [2, 3]])\n",
    "    [2, 4]\n",
    "\n",
    "    Because:\n",
    "    [1]\n",
    "    [2, 3] <- sum the diagonals\n",
    "     2  4\n",
    "\n",
    "    $ triangle_sum([[1], [2, 3], [4, 5, 6]])\n",
    "    [4, 7, 10]\n",
    "\n",
    "    Because:\n",
    "    [1]\n",
    "    [2, 3]\n",
    "    [4, 5, 6] <- sum the diagonals\n",
    "     4  7  10\n",
    "\n",
    "    Parameters\n",
    "    ----------\n",
    "    triangle: list of lists of numbers\n",
    "\n",
    "    Returns\n",
    "    -------\n",
    "    diagonal_sums: list of numbers\n",
    "      The diagonal sums of the triangle.\n",
    "    '''\n",
    "    result = [ [] for i in range(len(triangle))]#[[]] * len(triangle)\n",
    "    for i in range(len(triangle)):\n",
    "        for j in range(len(triangle[i])):\n",
    "            x = i - j\n",
    "            result[x].append(triangle[i][j])\n",
    "    result = [sum(a) for a in result]\n",
    "    return result[::-1]\n",
    "print(triangle_sum([[1], [2, 3], [4, 5, 6]]))\n",
    "\n"
   ]
  },
  {
   "cell_type": "code",
   "execution_count": 5,
   "metadata": {},
   "outputs": [
    {
     "name": "stdout",
     "output_type": "stream",
     "text": [
      "False\n"
     ]
    }
   ],
   "source": [
    "from string import ascii_lowercase\n",
    "from string import ascii_uppercase \n",
    "\n",
    "def pangram(test):\n",
    "    '''Detects if a string contains every letter in the alphabet at least once. E.g.\n",
    "       \n",
    "        $ pangram(\"The quick brown fox jumps over the lazy dog\")\n",
    "    True\n",
    "        $ pangram(\"Welcome to the jungle, we've got fun and games\") \n",
    "        False\n",
    "\n",
    "    Parameters\n",
    "    ----------\n",
    "    string: str\n",
    "\n",
    "    Returns\n",
    "    -------\n",
    "    bool: Is the string a pangram?\n",
    "    '''\n",
    "    test = set(list(test.upper()))\n",
    "    #all_letters = ascii_lowercase + ascii_uppercase\n",
    "    return (set(list(ascii_uppercase)) - test) == set() ## set() - set() were way more faster than list\n",
    "        \n",
    "    \n",
    "test = \"Welcome to the jungle, we've got fun and games\"\n",
    "print(pangram(test))"
   ]
  }
 ],
 "metadata": {
  "kernelspec": {
   "display_name": "Python 3",
   "language": "python",
   "name": "python3"
  },
  "language_info": {
   "codemirror_mode": {
    "name": "ipython",
    "version": 3
   },
   "file_extension": ".py",
   "mimetype": "text/x-python",
   "name": "python",
   "nbconvert_exporter": "python",
   "pygments_lexer": "ipython3",
   "version": "3.6.3"
  }
 },
 "nbformat": 4,
 "nbformat_minor": 2
}
