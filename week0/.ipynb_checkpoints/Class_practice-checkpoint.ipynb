{
 "cells": [
  {
   "cell_type": "code",
   "execution_count": 2,
   "metadata": {},
   "outputs": [
    {
     "name": "stdout",
     "output_type": "stream",
     "text": [
      "I am not stupid\n"
     ]
    }
   ],
   "source": [
    "try:\n",
    "    4/0\n",
    "except Exception:\n",
    "    print(\"I am not stupid\")"
   ]
  },
  {
   "cell_type": "code",
   "execution_count": null,
   "metadata": {
    "collapsed": true
   },
   "outputs": [],
   "source": []
  },
  {
   "cell_type": "code",
   "execution_count": 5,
   "metadata": {},
   "outputs": [
    {
     "data": {
      "text/plain": [
       "1"
      ]
     },
     "execution_count": 5,
     "metadata": {},
     "output_type": "execute_result"
    }
   ],
   "source": [
    "eval(\"1\")"
   ]
  },
  {
   "cell_type": "code",
   "execution_count": 10,
   "metadata": {},
   "outputs": [
    {
     "data": {
      "text/plain": [
       "list"
      ]
     },
     "execution_count": 10,
     "metadata": {},
     "output_type": "execute_result"
    }
   ],
   "source": [
    "type(Exception)\n",
    "a = list(\"xx\")\n",
    "type(a)"
   ]
  },
  {
   "cell_type": "code",
   "execution_count": 13,
   "metadata": {},
   "outputs": [
    {
     "name": "stdout",
     "output_type": "stream",
     "text": [
      "Hello, John\n"
     ]
    }
   ],
   "source": [
    "class Person:\n",
    "    def __init__(self,name): #constructor arguments go here\n",
    "        # set up the state of your class instance\n",
    "        self.name =  name\n",
    "    def greet(self):\n",
    "        print(\"Hello, %s\"%self.name)\n",
    "perseron = Person(\"John\")\n",
    "perseron.greet()  \n",
    "    #methods go here\n",
    "    #they always have at least one argument, and the first argument is named `self`"
   ]
  },
  {
   "cell_type": "code",
   "execution_count": 19,
   "metadata": {},
   "outputs": [],
   "source": [
    "class Person:\n",
    "    def __init__(self,name): #constructor arguments go here\n",
    "        # set up the state of your class instance\n",
    "        self.name =  name\n",
    "    def greet(self):\n",
    "        print(\"Hello, %s\"%self.name)"
   ]
  },
  {
   "cell_type": "code",
   "execution_count": 25,
   "metadata": {},
   "outputs": [
    {
     "data": {
      "text/plain": [
       "'Data Scientist'"
      ]
     },
     "execution_count": 25,
     "metadata": {},
     "output_type": "execute_result"
    }
   ],
   "source": [
    "class SymmetricDict():\n",
    "    def __init__(self):\n",
    "        self.dictionary = {}\n",
    "    def __setitem__(self, key, value):\n",
    "        self.dictionary[key] = value\n",
    "    def __getitem__(self, key):\n",
    "        return self.dictionary[key]\n",
    "\n",
    "sym_dict = SymmetricDict()\n",
    "sym_dict[\"Matt\"] = \"Data Scientist\"\n",
    "sym_dict[\"Matt\"]"
   ]
  },
  {
   "cell_type": "code",
   "execution_count": null,
   "metadata": {
    "collapsed": true
   },
   "outputs": [],
   "source": [
    "$ f = LinearPolynomial(m=2, b=1)\n",
    "$ g = LinearPolynomial(m=-4, b=4)\n",
    "$ print(f)\n",
    "2x+1\n",
    "$ print(g)\n",
    "-4x+4\n",
    "$ f.evaluate(0)\n",
    "1\n",
    "$ f.evaluate(2)\n",
    "5\n",
    "$ g.evaluate(0)\n",
    "4\n",
    "$ g.evaluate(1)\n",
    "0"
   ]
  },
  {
   "cell_type": "code",
   "execution_count": 61,
   "metadata": {},
   "outputs": [
    {
     "name": "stdout",
     "output_type": "stream",
     "text": [
      "6x+-3\n"
     ]
    }
   ],
   "source": [
    "class LinearPolynomial:\n",
    "    def __init__(self,m,b):\n",
    "        self.m = m\n",
    "        self.b = b\n",
    "    def __add__(self, other):\n",
    "        m = self.m + other.m\n",
    "        b = self.b + other.b\n",
    "        #return self.m, self.b\n",
    "        return LinearPolynomial(m,b)\n",
    "    def __sub__(self, other):\n",
    "        m = self.m - other.m\n",
    "        b = self.b - other.b\n",
    "        return LinearPolynomial(m,b)\n",
    "    def __eq__(self,other):\n",
    "        return self.m == other.m    \n",
    "    def __str__(self):\n",
    "        return str(self.m)+\"x+\" +str(self.b)\n",
    "    def evaluate(self,x):\n",
    "        return (self.m * x) + self.b\n",
    "\n",
    "f = LinearPolynomial(m=2, b=1)\n",
    "g = LinearPolynomial(m=-4, b=4)\n",
    "\n",
    "x = f - g\n",
    "print(x)"
   ]
  },
  {
   "cell_type": "code",
   "execution_count": 64,
   "metadata": {},
   "outputs": [
    {
     "data": {
      "text/plain": [
       "True"
      ]
     },
     "execution_count": 64,
     "metadata": {},
     "output_type": "execute_result"
    }
   ],
   "source": [
    "class sth:\n",
    "    def me():\n",
    "        pass\n",
    "sth == sth"
   ]
  },
  {
   "cell_type": "code",
   "execution_count": 142,
   "metadata": {},
   "outputs": [
    {
     "data": {
      "text/plain": [
       "True"
      ]
     },
     "execution_count": 142,
     "metadata": {},
     "output_type": "execute_result"
    }
   ],
   "source": [
    "import string\n",
    "class PasswordValidator:\n",
    "    ## when putting nothing for contains_capital or contains_number, it switch off.\n",
    "    ## so they have to be False\n",
    "    def __init__(self, contains_capital=False,contains_number=False,symbols=[]):\n",
    "        self.symbols = symbols\n",
    "        self.contains_capital = contains_capital\n",
    "        self.contains_number = contains_number\n",
    "        \n",
    "    def validate(self, strings):\n",
    "\n",
    "        symbo_check =  len(set(self.symbols) - set(list(strings))) != len(self.symbols)\n",
    "        \n",
    "        if self.contains_capital == True:\n",
    "            capit_check =  len(set(list(string.ascii_uppercase)) -  set(list(strings))) != len(list(string.ascii_uppercase))\n",
    "        else:\n",
    "            capit_check = True \n",
    "            ## when self.contains_capital == False, assuming it was true so that \"&\" in return works\n",
    "        \n",
    "        if self.contains_number == True:\n",
    "            num = [\"0\",\"1\",\"2\",\"3\",\"4\",\"5\",\"6\",\"7\",\"8\",\"9\"]\n",
    "            num_check = len(set(num) - set(list(strings))) != len(num)\n",
    "        else:\n",
    "            num_check = True\n",
    "        \n",
    "        return (symbo_check&capit_check&num_check)\n",
    "\n",
    "validator = PasswordValidator(symbols=['!', '?', '#'])\n",
    "validator.validate('moshi?')"
   ]
  },
  {
   "cell_type": "code",
   "execution_count": 170,
   "metadata": {},
   "outputs": [
    {
     "data": {
      "text/plain": [
       "3.5"
      ]
     },
     "execution_count": 170,
     "metadata": {},
     "output_type": "execute_result"
    }
   ],
   "source": [
    "import numpy as np\n",
    "class VectorSegmenter:\n",
    "    def __init__(self, a_list):\n",
    "        self.a_list = a_list\n",
    "    def segment(self,bool_list):\n",
    "        self.new_list = [self.a_list[i] for i in range(len(self.a_list)) if bool_list[i] == True]\n",
    "        return self.new_list\n",
    "    def sum(self,bool_list):\n",
    "        return sum(self.new_list,bool_list)\n",
    "    def average(self,bool_list):\n",
    "        return np.mean(self.new_list)\n",
    "\n",
    "v = VectorSegmenter([1, 2, 3, 4, 5, 6])\n",
    "v.segment([True, True, False, False, True, True])\n",
    "v.average([True, True, False, False, True, True])\n"
   ]
  },
  {
   "cell_type": "code",
   "execution_count": null,
   "metadata": {
    "collapsed": true
   },
   "outputs": [],
   "source": [
    "$ room = DungeonRoom(10, 10)\n",
    "\n",
    "$ room.add_rectangle(1, 2, 5, 6)\n",
    "\n",
    "$ room.print_room()"
   ]
  },
  {
   "cell_type": "code",
   "execution_count": 188,
   "metadata": {},
   "outputs": [
    {
     "data": {
      "text/plain": [
       "[1, 2, 3, '#', '#', '#', 6]"
      ]
     },
     "execution_count": 188,
     "metadata": {},
     "output_type": "execute_result"
    }
   ],
   "source": [
    "x = [1,2,3,4,5,5,6]\n",
    "x[3:6] = ['#'] *3\n",
    "x"
   ]
  },
  {
   "cell_type": "code",
   "execution_count": 268,
   "metadata": {},
   "outputs": [
    {
     "name": "stdout",
     "output_type": "stream",
     "text": [
      "..........\n",
      "..####....\n",
      "..#..#....\n",
      "..#..#....\n",
      "..#.#####.\n",
      "..####..#.\n",
      "....#...#.\n",
      "....#...#.\n",
      "....#####.\n",
      "..........\n"
     ]
    }
   ],
   "source": [
    "#print((\".\"*10+\"\\n\")*10)\n",
    "class DungeonRoom:\n",
    "    def __init__(self,i,j):\n",
    "        self.i = i\n",
    "        self.j = j\n",
    "        self.room = []\n",
    "        for n in range(self.i):\n",
    "            self.room.append([\".\"]*self.j)\n",
    "    def add_rectangle(self,a,b,c,d):\n",
    "        self.room[a][b:d] = ['#'] * (d-b)\n",
    "        self.room[c][b:d] = ['#'] * (d-b)\n",
    "        for i in range(a+1,c):\n",
    "            self.room[i][b] = \"#\"\n",
    "            self.room[i][d-1] = \"#\"\n",
    "            \n",
    "    def print_room(self):\n",
    "        print(\"\\n\".join([\"\".join(a) for a in self.room]))\n",
    "     \n",
    "\n",
    "room = DungeonRoom(10, 10)\n",
    "#room.print_room()\n",
    "room.add_rectangle(1, 2, 5, 6)\n",
    "room.add_rectangle(4, 4, 8, 9)\n",
    "room.print_room()"
   ]
  },
  {
   "cell_type": "code",
   "execution_count": 358,
   "metadata": {},
   "outputs": [
    {
     "name": "stdout",
     "output_type": "stream",
     "text": [
      "..........\n",
      "..####....\n",
      "..#..#....\n",
      "..#..#....\n",
      "..#######.\n",
      "....#...#.\n",
      "..#####.#.\n",
      "..#.#####.\n",
      "..#####...\n",
      "..........\n",
      "[['.' '.' '.' '.' '.' '.' '.' '.' '.' '.']\n",
      " ['.' '.' '.' '.' '.' '.' '.' '.' '.' '.']\n",
      " ['.' '.' '.' '.' '.' '.' '.' '.' '.' '.']\n",
      " ['.' '.' '.' '.' '.' '.' '.' '.' '.' '.']\n",
      " ['.' '.' '.' '.' '.' '.' '.' '.' '.' '.']\n",
      " ['.' '.' '.' '.' '.' '.' '.' '.' '.' '.']\n",
      " ['.' '.' '.' '.' '.' '.' '.' '.' '.' '.']\n",
      " ['.' '.' '.' '.' '.' '.' '.' '.' '.' '.']\n",
      " ['.' '.' '.' '.' '.' '.' '.' '.' '.' '.']\n",
      " ['.' '.' '.' '.' '.' '.' '.' '.' '.' '.']]\n"
     ]
    }
   ],
   "source": [
    "import numpy as np\n",
    "class DungeonRoom:\n",
    "    def __init__(self,i,j):\n",
    "        self.i = i\n",
    "        self.j = j\n",
    "        self.b_room =[]\n",
    "        self.room = []\n",
    "        for n in range(self.i):\n",
    "            self.room.append([\".\"]*self.j)\n",
    "        self.room = np.array(self.room, dtype=np.object)\n",
    "\n",
    "        \n",
    "    def add_rectangle(self,a,b,c,d):\n",
    "        self.room_c = np.copy(self.room)\n",
    "        \n",
    "        self.room_c[a:c,b] = \"#\"\n",
    "        self.room_c[a:c,d-1] = \"#\"\n",
    "        self.room_c[a,b:d] = \"#\"\n",
    "        self.room_c[c-1,b:d] = \"#\"\n",
    "        self.b_room.append(self.room_c == \"#\")\n",
    "        \n",
    "        #[room.b_room[0] & room.b_room[1]]\n",
    "        #self.n_room.append([a,b,c,d])\n",
    "        #for a,b,c,d in self.n_room:\n",
    "        \n",
    "            \n",
    "    def print_room(self):\n",
    "        #self.room[self.room_c == \"#\"] = \"#\"\n",
    "        self.room_p = np.copy(self.room)\n",
    "        #if len(self.b_room) = 1:\n",
    "        bool_room = self.b_room[0]\n",
    "        if len(self.b_room) > 1:\n",
    "            for each_bool in self.b_room[1:]:\n",
    "                bool_room = (bool_room | each_bool)\n",
    "            self.room_p[bool_room] = \"#\"\n",
    "            #self.room_p[(self.b_room[0] | self.b_room[1])] = \"#\"\n",
    "            #self.room_p[(self.b_room[0] & self.b_room[1])] = \".\"\n",
    "            \n",
    "        \n",
    "        print(\"\\n\".join([\"\".join(a) for a in self.room_p]))\n",
    "        print(self.room)\n",
    "room = DungeonRoom(10, 10)\n",
    "room.add_rectangle(1, 2, 5, 6)\n",
    "room.add_rectangle(4, 4, 8, 9)\n",
    "room.add_rectangle(6, 2, 9, 7)\n",
    "\n",
    "room.print_room()\n",
    "#room.b_room.all()"
   ]
  },
  {
   "cell_type": "code",
   "execution_count": 492,
   "metadata": {},
   "outputs": [],
   "source": [
    "import numpy as np\n",
    "class DungeonRoom:\n",
    "    def __init__(self,i,j):\n",
    "        self.i = i\n",
    "        self.j = j\n",
    "        self.b_room =[]\n",
    "        self.b_room_int =[]\n",
    "        self.room = []\n",
    "        for n in range(self.i):\n",
    "            self.room.append([\".\"]*self.j)\n",
    "        self.room = np.array(self.room, dtype=np.object)\n",
    "        self.room_ori = np.copy(self.room)\n",
    "        \n",
    "    def add_rectangle(self,a,b,c,d):      \n",
    "        ## add wall\n",
    "        self.room[a:c,b] = \"#\"\n",
    "        self.room[a:c,d-1] = \"#\"\n",
    "        self.room[a,b:d] = \"#\"\n",
    "        self.room[c-1,b:d] = \"#\"\n",
    "                \n",
    "        ## select overlap\n",
    "        room_bool = np.full((self.i, self.j), False)\n",
    "        \n",
    "        for i in range(a,c):\n",
    "            room_bool[i,b:d] = True\n",
    "        \n",
    "        self.b_room.append(room_bool)\n",
    "        \n",
    "        if len(self.b_room) > 1:\n",
    "            self.b_room_int = np.all(self.b_room, axis=0)\n",
    "            self.room[self.b_room_int] = \".\"\n",
    "            self.b_room = [np.any(self.b_room, axis=0)]\n",
    "        \n",
    "        \n",
    "    def print_room(self):\n",
    "        \n",
    "        print(\"\\n\".join([\"\".join(a) for a in self.room]))\n",
    "        \n",
    "\n",
    "\n",
    "\n",
    "\n"
   ]
  },
  {
   "cell_type": "code",
   "execution_count": 495,
   "metadata": {},
   "outputs": [
    {
     "name": "stdout",
     "output_type": "stream",
     "text": [
      "..........\n",
      "..####....\n",
      "..#..#....\n",
      "..#..#....\n",
      "..##..###.\n",
      "....#...#.\n",
      "..##....#.\n",
      "..#....##.\n",
      "..#####...\n",
      "..........\n"
     ]
    }
   ],
   "source": [
    "room = DungeonRoom(10, 10)\n",
    "room.add_rectangle(1, 2, 5, 6)\n",
    "room.add_rectangle(4, 4, 8, 9)\n",
    "room.add_rectangle(6, 2, 9, 7)\n",
    "\n",
    "room.print_room()"
   ]
  },
  {
   "cell_type": "code",
   "execution_count": 486,
   "metadata": {},
   "outputs": [
    {
     "data": {
      "text/plain": [
       "array([1, 0, 3])"
      ]
     },
     "execution_count": 486,
     "metadata": {},
     "output_type": "execute_result"
    }
   ],
   "source": [
    "x = np.array([1, 2, 3])\n",
    "y = x\n",
    "z = np.copy(x)\n",
    "\n",
    "z[1] =0\n",
    "z"
   ]
  },
  {
   "cell_type": "code",
   "execution_count": 360,
   "metadata": {},
   "outputs": [
    {
     "data": {
      "text/plain": [
       "array([1, 2, 3])"
      ]
     },
     "execution_count": 360,
     "metadata": {},
     "output_type": "execute_result"
    }
   ],
   "source": [
    "x"
   ]
  },
  {
   "cell_type": "code",
   "execution_count": null,
   "metadata": {
    "collapsed": true
   },
   "outputs": [],
   "source": []
  }
 ],
 "metadata": {
  "kernelspec": {
   "display_name": "Python 3",
   "language": "python",
   "name": "python3"
  },
  "language_info": {
   "codemirror_mode": {
    "name": "ipython",
    "version": 3
   },
   "file_extension": ".py",
   "mimetype": "text/x-python",
   "name": "python",
   "nbconvert_exporter": "python",
   "pygments_lexer": "ipython3",
   "version": "3.6.3"
  }
 },
 "nbformat": 4,
 "nbformat_minor": 2
}
